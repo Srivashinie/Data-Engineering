{
 "cells": [
  {
   "cell_type": "markdown",
   "id": "17dea5b4-bb62-4e7c-9eb5-a3377a3863cb",
   "metadata": {},
   "source": [
    "B. Model Based Synthesis"
   ]
  },
  {
   "cell_type": "code",
   "execution_count": 13,
   "id": "e74eab16-e06b-4558-a840-a372a47cee0f",
   "metadata": {},
   "outputs": [
    {
     "name": "stdout",
     "output_type": "stream",
     "text": [
      "Requirement already satisfied: Faker in c:\\users\\sriva\\anaconda3\\lib\\site-packages (25.5.0)\n",
      "Requirement already satisfied: python-dateutil>=2.4 in c:\\users\\sriva\\anaconda3\\lib\\site-packages (from Faker) (2.8.2)\n",
      "Requirement already satisfied: six>=1.5 in c:\\users\\sriva\\anaconda3\\lib\\site-packages (from python-dateutil>=2.4->Faker) (1.16.0)\n",
      "Note: you may need to restart the kernel to use updated packages.\n"
     ]
    }
   ],
   "source": [
    "pip install Faker"
   ]
  },
  {
   "cell_type": "code",
   "execution_count": 14,
   "id": "df2f5177-3a64-4263-8c31-6f9ad8e5103a",
   "metadata": {},
   "outputs": [],
   "source": [
    "import pandas as pd\n",
    "from faker import Faker\n",
    "import random\n",
    "import numpy as np\n",
    "\n",
    "fake = Faker()\n",
    "\n",
    "def generate_country():\n",
    "    countries = ['USA', 'India', 'China', 'Canada', 'South Korea', 'Philippines', 'Taiwan', 'Mexico']\n",
    "    country_distribution = [0.55, 0.745, 0.118, 0.01, 0.009, 0.006, 0.006, 0.002]\n",
    "    return random.choices(countries, weights=country_distribution, k=1)[0]\n",
    "\n",
    "def generate_department():\n",
    "    departments = ['Product', 'Human Resource', 'Legal', 'Marketing', 'Administrative', 'Operations', 'Sales', 'Finance', 'I/T']\n",
    "    department_distribution = [0.20, 0.10, 0.05, 0.10, 0.10, 0.20, 0.10, 0.05, 0.10]\n",
    "    return random.choices(departments, weights=department_distribution, k=1)[0]\n",
    "\n",
    "def generate_salary(department):\n",
    "    salary_ranges = {\n",
    "        'Product': (7000, 14000),\n",
    "        'Human Resource': (5000, 10000),\n",
    "        'Legal': (8000, 15000),\n",
    "        'Marketing': (6000, 12000),\n",
    "        'Administrative': (4000, 8000),\n",
    "        'Operations': (5000, 10000),\n",
    "        'Sales': (6000, 12000),\n",
    "        'Finance': (7000, 14000),\n",
    "        'I/T': (7000, 14000)\n",
    "    }\n",
    "    return random.randint(*salary_ranges[department])\n",
    "\n",
    "num_employees = 10000\n",
    "data = []\n",
    "\n",
    "for _ in range(num_employees):\n",
    "    gender = random.choices(['male', 'female'], k=1)[0]\n",
    "    first_name = fake.first_name_male() if gender == 'male' else fake.first_name_female()\n",
    "    last_name = fake.last_name()\n",
    "    email = fake.email()\n",
    "    phone = fake.phone_number()\n",
    "    age = random.randint(22, 65)\n",
    "    job_title = fake.job()\n",
    "    years_of_experience = random.randint(0, 15)\n",
    "    department = generate_department()\n",
    "    salary = generate_salary(department)\n",
    "    ssn = fake.ssn()\n",
    "    languages = random.randint(0, 2)\n",
    "    country = generate_country()\n",
    "    data.append([first_name, last_name, email, phone, gender, age, job_title, years_of_experience, salary, department, ssn, languages, country])\n",
    "\n",
    "columns = ['First Name', 'Last Name', 'Email', 'Phone', 'Gender', 'Age', 'Job Title', 'Years Of Experience', 'Salary', 'Department', 'SSN', 'Languages', 'Country']\n",
    "df_synthetic = pd.DataFrame(data, columns=columns)\n",
    "#synthetic data\n",
    "df_synthetic.to_csv('synthetic_employees.csv', index=False)"
   ]
  },
  {
   "cell_type": "markdown",
   "id": "10eb97a8-1bb8-43b1-8ba5-3e46159e7f10",
   "metadata": {},
   "source": [
    "C. Analyze the Synthetic Company"
   ]
  },
  {
   "cell_type": "code",
   "execution_count": 15,
   "id": "22c3e60d-08e2-4aff-93bd-2e62261f4b55",
   "metadata": {},
   "outputs": [
    {
     "name": "stdout",
     "output_type": "stream",
     "text": [
      "Men vs. Women in each department:\n",
      "Gender          female  male\n",
      "Department                  \n",
      "Administrative     461   468\n",
      "Finance            255   258\n",
      "Human Resource     526   547\n",
      "I/T                508   486\n",
      "Legal              251   243\n",
      "Marketing          538   487\n",
      "Operations         935  1020\n",
      "Product           1042  1006\n",
      "Sales              481   488\n"
     ]
    }
   ],
   "source": [
    "import pandas as pd\n",
    "\n",
    "#Load the data\n",
    "df = pd.read_csv(\"synthetic_employees.csv\")\n",
    "gender = df.groupby(['Department', 'Gender']).size().unstack(fill_value=0)\n",
    "\n",
    "print(\"Men vs. Women in each department:\")\n",
    "print(gender)"
   ]
  },
  {
   "cell_type": "code",
   "execution_count": 16,
   "id": "819612e5-204e-407b-810c-7e64feb14d91",
   "metadata": {},
   "outputs": [
    {
     "name": "stdout",
     "output_type": "stream",
     "text": [
      "Yearly payroll:\n",
      "89268054\n"
     ]
    }
   ],
   "source": [
    "payroll = df['Salary'].sum()\n",
    "print(\"Yearly payroll:\")\n",
    "print(payroll)"
   ]
  },
  {
   "cell_type": "code",
   "execution_count": 17,
   "id": "6919e3dd-1638-4498-870b-6429b3503000",
   "metadata": {},
   "outputs": [
    {
     "name": "stdout",
     "output_type": "stream",
     "text": [
      "Total office space required (square feet):\n",
      "200000\n"
     ]
    }
   ],
   "source": [
    "employees = len(df)\n",
    "space = 20 \n",
    "totalspace = employees * space\n",
    "\n",
    "print(\"Total office space required (square feet):\")\n",
    "print(totalspace)"
   ]
  },
  {
   "cell_type": "code",
   "execution_count": 18,
   "id": "a824def4-f971-46cc-9968-0abbe25c1206",
   "metadata": {},
   "outputs": [
    {
     "name": "stdout",
     "output_type": "stream",
     "text": [
      "Number of overlapping records between datasets:\n",
      "0\n"
     ]
    }
   ],
   "source": [
    "df_original = pd.read_csv(\"C:/Users/sriva/Downloads/employees.csv\")\n",
    "\n",
    "overlap_columns = ['First Name', 'Last Name', 'Email', 'Phone']\n",
    "overlaps = pd.merge(df_original, df, on=overlap_columns, how='inner')\n",
    "\n",
    "print(\"Number of overlapping records between datasets:\")\n",
    "print(len(overlaps))\n"
   ]
  },
  {
   "cell_type": "markdown",
   "id": "22c63c16-efc8-4b2d-a85c-8a5523489945",
   "metadata": {},
   "source": [
    "D. Quality of the Synthetic Dataset"
   ]
  },
  {
   "cell_type": "code",
   "execution_count": 19,
   "id": "1e0b0d7b-e38a-4de3-b042-10bb31337389",
   "metadata": {},
   "outputs": [
    {
     "name": "stdout",
     "output_type": "stream",
     "text": [
      "Requirement already satisfied: ydata-profiling in c:\\users\\sriva\\anaconda3\\lib\\site-packages (4.8.3)\n",
      "Requirement already satisfied: scipy<1.14,>=1.4.1 in c:\\users\\sriva\\anaconda3\\lib\\site-packages (from ydata-profiling) (1.11.4)\n",
      "Requirement already satisfied: pandas!=1.4.0,<3,>1.1 in c:\\users\\sriva\\anaconda3\\lib\\site-packages (from ydata-profiling) (2.1.4)\n",
      "Requirement already satisfied: matplotlib<3.9,>=3.2 in c:\\users\\sriva\\anaconda3\\lib\\site-packages (from ydata-profiling) (3.8.0)\n",
      "Requirement already satisfied: pydantic>=2 in c:\\users\\sriva\\anaconda3\\lib\\site-packages (from ydata-profiling) (2.7.3)\n",
      "Requirement already satisfied: PyYAML<6.1,>=5.0.0 in c:\\users\\sriva\\anaconda3\\lib\\site-packages (from ydata-profiling) (6.0.1)\n",
      "Requirement already satisfied: jinja2<3.2,>=2.11.1 in c:\\users\\sriva\\anaconda3\\lib\\site-packages (from ydata-profiling) (3.1.3)\n",
      "Requirement already satisfied: visions<0.7.7,>=0.7.5 in c:\\users\\sriva\\anaconda3\\lib\\site-packages (from visions[type_image_path]<0.7.7,>=0.7.5->ydata-profiling) (0.7.6)\n",
      "Requirement already satisfied: numpy<2,>=1.16.0 in c:\\users\\sriva\\anaconda3\\lib\\site-packages (from ydata-profiling) (1.26.4)\n",
      "Requirement already satisfied: htmlmin==0.1.12 in c:\\users\\sriva\\anaconda3\\lib\\site-packages (from ydata-profiling) (0.1.12)\n",
      "Requirement already satisfied: phik<0.13,>=0.11.1 in c:\\users\\sriva\\anaconda3\\lib\\site-packages (from ydata-profiling) (0.12.4)\n",
      "Requirement already satisfied: requests<3,>=2.24.0 in c:\\users\\sriva\\anaconda3\\lib\\site-packages (from ydata-profiling) (2.31.0)\n",
      "Requirement already satisfied: tqdm<5,>=4.48.2 in c:\\users\\sriva\\anaconda3\\lib\\site-packages (from ydata-profiling) (4.65.0)\n",
      "Requirement already satisfied: seaborn<0.14,>=0.10.1 in c:\\users\\sriva\\anaconda3\\lib\\site-packages (from ydata-profiling) (0.12.2)\n",
      "Requirement already satisfied: multimethod<2,>=1.4 in c:\\users\\sriva\\anaconda3\\lib\\site-packages (from ydata-profiling) (1.11.2)\n",
      "Requirement already satisfied: statsmodels<1,>=0.13.2 in c:\\users\\sriva\\anaconda3\\lib\\site-packages (from ydata-profiling) (0.14.0)\n",
      "Requirement already satisfied: typeguard<5,>=3 in c:\\users\\sriva\\anaconda3\\lib\\site-packages (from ydata-profiling) (4.3.0)\n",
      "Requirement already satisfied: imagehash==4.3.1 in c:\\users\\sriva\\anaconda3\\lib\\site-packages (from ydata-profiling) (4.3.1)\n",
      "Requirement already satisfied: wordcloud>=1.9.1 in c:\\users\\sriva\\anaconda3\\lib\\site-packages (from ydata-profiling) (1.9.3)\n",
      "Requirement already satisfied: dacite>=1.8 in c:\\users\\sriva\\anaconda3\\lib\\site-packages (from ydata-profiling) (1.8.1)\n",
      "Requirement already satisfied: numba<1,>=0.56.0 in c:\\users\\sriva\\anaconda3\\lib\\site-packages (from ydata-profiling) (0.59.0)\n",
      "Requirement already satisfied: PyWavelets in c:\\users\\sriva\\anaconda3\\lib\\site-packages (from imagehash==4.3.1->ydata-profiling) (1.5.0)\n",
      "Requirement already satisfied: pillow in c:\\users\\sriva\\anaconda3\\lib\\site-packages (from imagehash==4.3.1->ydata-profiling) (10.2.0)\n",
      "Requirement already satisfied: MarkupSafe>=2.0 in c:\\users\\sriva\\anaconda3\\lib\\site-packages (from jinja2<3.2,>=2.11.1->ydata-profiling) (2.1.3)\n",
      "Requirement already satisfied: contourpy>=1.0.1 in c:\\users\\sriva\\anaconda3\\lib\\site-packages (from matplotlib<3.9,>=3.2->ydata-profiling) (1.2.0)\n",
      "Requirement already satisfied: cycler>=0.10 in c:\\users\\sriva\\anaconda3\\lib\\site-packages (from matplotlib<3.9,>=3.2->ydata-profiling) (0.11.0)\n",
      "Requirement already satisfied: fonttools>=4.22.0 in c:\\users\\sriva\\anaconda3\\lib\\site-packages (from matplotlib<3.9,>=3.2->ydata-profiling) (4.25.0)\n",
      "Requirement already satisfied: kiwisolver>=1.0.1 in c:\\users\\sriva\\anaconda3\\lib\\site-packages (from matplotlib<3.9,>=3.2->ydata-profiling) (1.4.4)\n",
      "Requirement already satisfied: packaging>=20.0 in c:\\users\\sriva\\anaconda3\\lib\\site-packages (from matplotlib<3.9,>=3.2->ydata-profiling) (23.1)\n",
      "Requirement already satisfied: pyparsing>=2.3.1 in c:\\users\\sriva\\anaconda3\\lib\\site-packages (from matplotlib<3.9,>=3.2->ydata-profiling) (3.0.9)\n",
      "Requirement already satisfied: python-dateutil>=2.7 in c:\\users\\sriva\\anaconda3\\lib\\site-packages (from matplotlib<3.9,>=3.2->ydata-profiling) (2.8.2)\n",
      "Requirement already satisfied: llvmlite<0.43,>=0.42.0dev0 in c:\\users\\sriva\\anaconda3\\lib\\site-packages (from numba<1,>=0.56.0->ydata-profiling) (0.42.0)\n",
      "Requirement already satisfied: pytz>=2020.1 in c:\\users\\sriva\\anaconda3\\lib\\site-packages (from pandas!=1.4.0,<3,>1.1->ydata-profiling) (2023.3.post1)\n",
      "Requirement already satisfied: tzdata>=2022.1 in c:\\users\\sriva\\anaconda3\\lib\\site-packages (from pandas!=1.4.0,<3,>1.1->ydata-profiling) (2023.3)\n",
      "Requirement already satisfied: joblib>=0.14.1 in c:\\users\\sriva\\anaconda3\\lib\\site-packages (from phik<0.13,>=0.11.1->ydata-profiling) (1.2.0)\n",
      "Requirement already satisfied: annotated-types>=0.4.0 in c:\\users\\sriva\\anaconda3\\lib\\site-packages (from pydantic>=2->ydata-profiling) (0.7.0)\n",
      "Requirement already satisfied: pydantic-core==2.18.4 in c:\\users\\sriva\\anaconda3\\lib\\site-packages (from pydantic>=2->ydata-profiling) (2.18.4)\n",
      "Requirement already satisfied: typing-extensions>=4.6.1 in c:\\users\\sriva\\anaconda3\\lib\\site-packages (from pydantic>=2->ydata-profiling) (4.12.1)\n",
      "Requirement already satisfied: charset-normalizer<4,>=2 in c:\\users\\sriva\\anaconda3\\lib\\site-packages (from requests<3,>=2.24.0->ydata-profiling) (2.0.4)\n",
      "Requirement already satisfied: idna<4,>=2.5 in c:\\users\\sriva\\anaconda3\\lib\\site-packages (from requests<3,>=2.24.0->ydata-profiling) (3.4)\n",
      "Requirement already satisfied: urllib3<3,>=1.21.1 in c:\\users\\sriva\\anaconda3\\lib\\site-packages (from requests<3,>=2.24.0->ydata-profiling) (2.0.7)\n",
      "Requirement already satisfied: certifi>=2017.4.17 in c:\\users\\sriva\\anaconda3\\lib\\site-packages (from requests<3,>=2.24.0->ydata-profiling) (2024.2.2)\n",
      "Requirement already satisfied: patsy>=0.5.2 in c:\\users\\sriva\\anaconda3\\lib\\site-packages (from statsmodels<1,>=0.13.2->ydata-profiling) (0.5.3)\n",
      "Requirement already satisfied: colorama in c:\\users\\sriva\\appdata\\roaming\\python\\python311\\site-packages (from tqdm<5,>=4.48.2->ydata-profiling) (0.4.6)\n",
      "Requirement already satisfied: attrs>=19.3.0 in c:\\users\\sriva\\anaconda3\\lib\\site-packages (from visions<0.7.7,>=0.7.5->visions[type_image_path]<0.7.7,>=0.7.5->ydata-profiling) (23.1.0)\n",
      "Requirement already satisfied: networkx>=2.4 in c:\\users\\sriva\\anaconda3\\lib\\site-packages (from visions<0.7.7,>=0.7.5->visions[type_image_path]<0.7.7,>=0.7.5->ydata-profiling) (3.1)\n",
      "Requirement already satisfied: six in c:\\users\\sriva\\anaconda3\\lib\\site-packages (from patsy>=0.5.2->statsmodels<1,>=0.13.2->ydata-profiling) (1.16.0)\n",
      "Note: you may need to restart the kernel to use updated packages.\n"
     ]
    }
   ],
   "source": [
    "pip install ydata-profiling"
   ]
  },
  {
   "cell_type": "code",
   "execution_count": 20,
   "id": "5a93dce5-c4f5-4cba-80b4-d2874d857e98",
   "metadata": {},
   "outputs": [
    {
     "data": {
      "application/vnd.jupyter.widget-view+json": {
       "model_id": "9d6354c27a1c4581bb04b52231b13e57",
       "version_major": 2,
       "version_minor": 0
      },
      "text/plain": [
       "Summarize dataset:   0%|          | 0/5 [00:00<?, ?it/s]"
      ]
     },
     "metadata": {},
     "output_type": "display_data"
    },
    {
     "data": {
      "application/vnd.jupyter.widget-view+json": {
       "model_id": "b73d3d07eed34da99052cfd07ce086a2",
       "version_major": 2,
       "version_minor": 0
      },
      "text/plain": [
       "Generate report structure:   0%|          | 0/1 [00:00<?, ?it/s]"
      ]
     },
     "metadata": {},
     "output_type": "display_data"
    },
    {
     "data": {
      "application/vnd.jupyter.widget-view+json": {
       "model_id": "e8af7355851246f08292972b105494c6",
       "version_major": 2,
       "version_minor": 0
      },
      "text/plain": [
       "Render HTML:   0%|          | 0/1 [00:00<?, ?it/s]"
      ]
     },
     "metadata": {},
     "output_type": "display_data"
    },
    {
     "data": {
      "application/vnd.jupyter.widget-view+json": {
       "model_id": "9d7ec8a268254ba493a332af4dca1a43",
       "version_major": 2,
       "version_minor": 0
      },
      "text/plain": [
       "Export report to file:   0%|          | 0/1 [00:00<?, ?it/s]"
      ]
     },
     "metadata": {},
     "output_type": "display_data"
    },
    {
     "data": {
      "application/vnd.jupyter.widget-view+json": {
       "model_id": "a9bb8388bf1c4c44bf18cc9e699419c8",
       "version_major": 2,
       "version_minor": 0
      },
      "text/plain": [
       "Summarize dataset:   0%|          | 0/5 [00:00<?, ?it/s]"
      ]
     },
     "metadata": {},
     "output_type": "display_data"
    },
    {
     "data": {
      "application/vnd.jupyter.widget-view+json": {
       "model_id": "0a446da4f6ec4a1eac27a6877314599b",
       "version_major": 2,
       "version_minor": 0
      },
      "text/plain": [
       "Generate report structure:   0%|          | 0/1 [00:00<?, ?it/s]"
      ]
     },
     "metadata": {},
     "output_type": "display_data"
    },
    {
     "data": {
      "application/vnd.jupyter.widget-view+json": {
       "model_id": "d75aa05965b94d2ca9feaba60f5d0ad8",
       "version_major": 2,
       "version_minor": 0
      },
      "text/plain": [
       "Render HTML:   0%|          | 0/1 [00:00<?, ?it/s]"
      ]
     },
     "metadata": {},
     "output_type": "display_data"
    },
    {
     "data": {
      "application/vnd.jupyter.widget-view+json": {
       "model_id": "0ce7b52e5e2043639e2be89d4ac6fd4d",
       "version_major": 2,
       "version_minor": 0
      },
      "text/plain": [
       "Export report to file:   0%|          | 0/1 [00:00<?, ?it/s]"
      ]
     },
     "metadata": {},
     "output_type": "display_data"
    }
   ],
   "source": [
    "import pandas as pd\n",
    "from ydata_profiling import ProfileReport\n",
    "\n",
    "df_existing = pd.read_csv(\"C:/Users/sriva/Downloads/employees.csv\")\n",
    "df_synthetic = pd.read_csv(\"synthetic_employees.csv\")\n",
    "\n",
    "profile_existing = ProfileReport(df_existing, title=\"Original Employees Dataset Profile\", explorative=True, correlations={\"auto\": {\"calculate\": False}})\n",
    "profile_synthetic = ProfileReport(df_synthetic, title=\"Synthetic Employees Dataset Profile\", explorative=True, correlations={\"auto\": {\"calculate\": False}})\n",
    "\n",
    "#Reports\n",
    "profile_existing.to_file(\"original_employees_profile.html\")\n",
    "profile_synthetic.to_file(\"synthetic_employees_profile.html\")"
   ]
  },
  {
   "cell_type": "markdown",
   "id": "6118ba43-32d5-4f45-9924-9d8f6fafc7bc",
   "metadata": {},
   "source": [
    "E. Sampling"
   ]
  },
  {
   "cell_type": "code",
   "execution_count": 21,
   "id": "e0593be9-449d-4239-9101-12484c04f45d",
   "metadata": {},
   "outputs": [
    {
     "name": "stdout",
     "output_type": "stream",
     "text": [
      "     First Name  Last Name                        Email  \\\n",
      "4180      Tonya      Brown        dyersusan@example.com   \n",
      "7219   Kimberly     Taylor       clarence22@example.com   \n",
      "0        Ronald     Bowers          emiller@example.com   \n",
      "3046    Matthew      Price         amanda68@example.com   \n",
      "1486      Jason     Rogers        shannon38@example.org   \n",
      "947     Matthew  Cervantes  jocelynerickson@example.org   \n",
      "1862       John    Clayton        cherylliu@example.org   \n",
      "3490       Todd     Rangel          khoover@example.com   \n",
      "3983     Brandy    Maxwell         ojohnson@example.org   \n",
      "5392     Pamela       Pope         eugene35@example.com   \n",
      "4204   Victoria     Miller           vsmith@example.net   \n",
      "6864    Melanie    Griffin          daisy59@example.org   \n",
      "2054    Ricardo     Hudson        suzanne37@example.net   \n",
      "8774       John       Carr       nicholas06@example.com   \n",
      "286    Danielle   Williams            joy50@example.net   \n",
      "6719       John   Gonzalez          james23@example.com   \n",
      "4182    Caitlin     Ortega          egarcia@example.com   \n",
      "5584     Angela      Lewis    melissamiller@example.com   \n",
      "1425     Rachel  Maldonado          hguzman@example.com   \n",
      "1981       Leah      Greer  gregoryrobinson@example.net   \n",
      "\n",
      "                      Phone  Gender  Age                            Job Title  \\\n",
      "4180   001-565-971-2736x126  female   35         Medical sales representative   \n",
      "7219             2234597448  female   44                Geneticist, molecular   \n",
      "0        727.958.2021x62395    male   47                           Astronomer   \n",
      "3046       702-553-6732x733    male   42                    Food technologist   \n",
      "1486             8787778624    male   43  Exhibitions officer, museum/gallery   \n",
      "947    001-836-207-8712x149    male   40     Higher education careers adviser   \n",
      "1862  001-813-621-7679x0490    male   58                Engineer, maintenance   \n",
      "3490           700-384-5753    male   23                       Prison officer   \n",
      "3983     (918)983-6555x8341  female   41                  Clinical biochemist   \n",
      "5392           331-400-5728  female   48                           IT trainer   \n",
      "4204   001-810-203-1454x692  female   63            Consulting civil engineer   \n",
      "6864     (909)544-3188x8987  female   47                 Licensed conveyancer   \n",
      "2054          (524)313-2266    male   44                 Journalist, magazine   \n",
      "8774          (867)821-6612    male   37                   Wellsite geologist   \n",
      "286       (863)707-4052x113  female   59                      Systems analyst   \n",
      "6719           671-924-3636    male   43              Secretary/administrator   \n",
      "4182  +1-475-723-2285x26111  female   58         Education officer, community   \n",
      "5584      808-420-0049x8809  female   44                        Art therapist   \n",
      "1425       001-560-305-4648  female   28                IT sales professional   \n",
      "1981           943.493.4091  female   29                          Firefighter   \n",
      "\n",
      "      Years Of Experience  Salary      Department          SSN  Languages  \\\n",
      "4180                    9    7938       Marketing  381-25-2949          0   \n",
      "7219                   11    9265       Marketing  744-58-5349          1   \n",
      "0                      15    9945             I/T  576-14-7644          0   \n",
      "3046                    9    7399       Marketing  344-96-1345          0   \n",
      "1486                   10    9314      Operations  316-84-6646          2   \n",
      "947                     4    7072  Administrative  773-01-5745          1   \n",
      "1862                   11   14712           Legal  357-88-8407          2   \n",
      "3490                    5    8591           Sales  250-69-8197          0   \n",
      "3983                    3   11762           Sales  584-50-0908          2   \n",
      "5392                   10   10131         Product  335-59-5107          1   \n",
      "4204                    6   11205       Marketing  303-91-4065          0   \n",
      "6864                    6    9244             I/T  791-20-8766          1   \n",
      "2054                   10    8695         Finance  791-52-7338          0   \n",
      "8774                   14   13206             I/T  445-37-1218          0   \n",
      "286                    12    9691         Finance  647-20-1513          2   \n",
      "6719                   11    5530      Operations  066-45-9109          1   \n",
      "4182                   11   10663         Product  751-70-3409          2   \n",
      "5584                    6    7421         Product  561-56-6819          2   \n",
      "1425                    0   13689           Legal  430-82-1096          2   \n",
      "1981                   10    7908         Product  786-58-3696          0   \n",
      "\n",
      "          Country  \n",
      "4180          USA  \n",
      "7219          USA  \n",
      "0             USA  \n",
      "3046        China  \n",
      "1486          USA  \n",
      "947           USA  \n",
      "1862        India  \n",
      "3490        China  \n",
      "3983        India  \n",
      "5392        India  \n",
      "4204        India  \n",
      "6864          USA  \n",
      "2054          USA  \n",
      "8774  Philippines  \n",
      "286         India  \n",
      "6719          USA  \n",
      "4182          USA  \n",
      "5584          USA  \n",
      "1425          USA  \n",
      "1981          USA  \n"
     ]
    }
   ],
   "source": [
    "df_synthetic = pd.read_csv(\"synthetic_employees.csv\")\n",
    "\n",
    "def calculate_weights(df, age_column):\n",
    "    weights = pd.Series([1] * len(df), index=df.index)\n",
    "    weights[df[age_column].between(40, 49)] = 3\n",
    "    weights = weights / weights.sum()\n",
    "    \n",
    "    return weights\n",
    "    \n",
    "weights = calculate_weights(df_synthetic, 'Age')\n",
    "\n",
    "sampled_df = df_synthetic.sample(n=20, weights=weights, random_state=1)\n",
    "\n",
    "print(sampled_df)"
   ]
  },
  {
   "cell_type": "markdown",
   "id": "ea7531aa-7b03-48de-a055-a95838ac6efb",
   "metadata": {},
   "source": [
    "F. Anonymization"
   ]
  },
  {
   "cell_type": "code",
   "execution_count": 22,
   "id": "a9218421-790f-47d6-9e8d-ad80b5eb5c5b",
   "metadata": {},
   "outputs": [
    {
     "name": "stdout",
     "output_type": "stream",
     "text": [
      "   First Name   Last Name                          Email  \\\n",
      "0  Fistname_0  Lastname_0  FistnameLastname0@example.com   \n",
      "1  Fistname_1  Lastname_1  FistnameLastname1@example.com   \n",
      "2  Fistname_2  Lastname_2  FistnameLastname2@example.com   \n",
      "3  Fistname_3  Lastname_3  FistnameLastname3@example.com   \n",
      "4  Fistname_4  Lastname_4  FistnameLastname4@example.com   \n",
      "\n",
      "                   Phone  Gender  Age                  Job Title  \\\n",
      "0           509.909.8807    male   25            Project Manager   \n",
      "1           622-432-8058  female   26  Machine Learning Engineer   \n",
      "2     (738)901-0459x7999    male   37            Project Manager   \n",
      "3          (821)529-0396  female   31              Web Developer   \n",
      "4  +1-920-512-0556x31639    male   35            Project Manager   \n",
      "\n",
      "   Years Of Experience  Salary Department  \n",
      "0                    1    8500    Product  \n",
      "1                    2    7000    Product  \n",
      "2                   14   17000    Product  \n",
      "3                    8   10000    Product  \n",
      "4                   11   14500    Product  \n"
     ]
    }
   ],
   "source": [
    "\n",
    "fake = Faker()\n",
    "\n",
    "#Load the data\n",
    "df_existing = pd.read_csv('C:/Users/sriva/Downloads/employees.csv')\n",
    "\n",
    "def anonymize_data(df):\n",
    "    for i in range(len(df)):\n",
    "        df.at[i, 'First Name'] = f'Fistname_{i}'\n",
    "        df.at[i, 'Last Name'] = f'Lastname_{i}'\n",
    "        df.at[i, 'Email'] = f'FistnameLastname{i}@example.com'\n",
    "        df.at[i, 'Phone'] = fake.phone_number()\n",
    "    return df\n",
    "\n",
    "df_anonymized = anonymize_data(df_existing)\n",
    "print(df_anonymized.head())"
   ]
  },
  {
   "cell_type": "markdown",
   "id": "422c0254-42d1-492b-bd6c-20dd08f0bbbe",
   "metadata": {},
   "source": [
    "G. Perturbation"
   ]
  },
  {
   "cell_type": "code",
   "execution_count": 23,
   "id": "010bf460-cbd4-4778-88fc-ec7ca92c1647",
   "metadata": {},
   "outputs": [
    {
     "name": "stdout",
     "output_type": "stream",
     "text": [
      "41\n",
      "23\n",
      "2543.75\n"
     ]
    }
   ],
   "source": [
    "print(df_existing['Age'].max())\n",
    "print(df_existing['Age'].min())\n",
    "print(0.25 * df_existing['Salary'].mean())"
   ]
  },
  {
   "cell_type": "code",
   "execution_count": 24,
   "id": "da3a1644-a203-4025-b406-8c81ca097cba",
   "metadata": {},
   "outputs": [
    {
     "name": "stdout",
     "output_type": "stream",
     "text": [
      "   First Name   Last Name                          Email  \\\n",
      "0  Fistname_0  Lastname_0  FistnameLastname0@example.com   \n",
      "1  Fistname_1  Lastname_1  FistnameLastname1@example.com   \n",
      "2  Fistname_2  Lastname_2  FistnameLastname2@example.com   \n",
      "3  Fistname_3  Lastname_3  FistnameLastname3@example.com   \n",
      "4  Fistname_4  Lastname_4  FistnameLastname4@example.com   \n",
      "\n",
      "                   Phone  Gender   Age                  Job Title  \\\n",
      "0           509.909.8807    male  27.0            Project Manager   \n",
      "1           622-432-8058  female  28.0  Machine Learning Engineer   \n",
      "2     (738)901-0459x7999    male  41.0            Project Manager   \n",
      "3          (821)529-0396  female  36.0              Web Developer   \n",
      "4  +1-920-512-0556x31639    male  35.0            Project Manager   \n",
      "\n",
      "   Years Of Experience        Salary Department  \n",
      "0             1.634338   6088.941547    Product  \n",
      "1             0.381747   4574.671011    Product  \n",
      "2            14.051242  14869.313852    Product  \n",
      "3            10.357624   5993.931126    Product  \n",
      "4            13.082962  13988.929168    Product  \n"
     ]
    }
   ],
   "source": [
    "def perturb_data(df):\n",
    "    age_std =  0.15 * (df['Age'].max() - df['Age'].min())  \n",
    "    salary_std = 0.25 * df['Salary'].mean() \n",
    "    experience_std = 0.1 * (df['Years Of Experience'].max() - df['Years Of Experience'].min())  \n",
    "    \n",
    "    df['Age'] = round(df['Age'] + np.random.normal(0, age_std, df['Age'].shape))\n",
    "    df['Salary'] = df['Salary'] + np.random.normal(0, salary_std, df['Salary'].shape)\n",
    "    df['Years Of Experience'] = df['Years Of Experience'] + np.random.normal(0, experience_std, df['Years Of Experience'].shape)\n",
    "    \n",
    "    # Ensuring no negative values for age, salary, and years of experience\n",
    "    df['Age'] = df['Age'].clip(lower=0)\n",
    "    df['Salary'] = df['Salary'].clip(lower=0)\n",
    "    df['Years Of Experience'] = df['Years Of Experience'].clip(lower=0)\n",
    "    \n",
    "    return df\n",
    "\n",
    "df_perturbed = perturb_data(df_existing)\n",
    "print(df_perturbed.head())"
   ]
  }
 ],
 "metadata": {
  "kernelspec": {
   "display_name": "Python 3 (ipykernel)",
   "language": "python",
   "name": "python3"
  },
  "language_info": {
   "codemirror_mode": {
    "name": "ipython",
    "version": 3
   },
   "file_extension": ".py",
   "mimetype": "text/x-python",
   "name": "python",
   "nbconvert_exporter": "python",
   "pygments_lexer": "ipython3",
   "version": "3.11.7"
  }
 },
 "nbformat": 4,
 "nbformat_minor": 5
}
