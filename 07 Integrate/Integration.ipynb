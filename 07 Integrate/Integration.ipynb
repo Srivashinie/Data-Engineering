{
 "cells": [
  {
   "cell_type": "code",
   "execution_count": 2,
   "id": "268b2987-1376-4fa4-aea8-ac2c76d7d20d",
   "metadata": {},
   "outputs": [
    {
     "data": {
      "text/html": [
       "<div>\n",
       "<style scoped>\n",
       "    .dataframe tbody tr th:only-of-type {\n",
       "        vertical-align: middle;\n",
       "    }\n",
       "\n",
       "    .dataframe tbody tr th {\n",
       "        vertical-align: top;\n",
       "    }\n",
       "\n",
       "    .dataframe thead th {\n",
       "        text-align: right;\n",
       "    }\n",
       "</style>\n",
       "<table border=\"1\" class=\"dataframe\">\n",
       "  <thead>\n",
       "    <tr style=\"text-align: right;\">\n",
       "      <th></th>\n",
       "      <th>ID</th>\n",
       "      <th>State</th>\n",
       "      <th>County</th>\n",
       "      <th>Total Population</th>\n",
       "      <th>Poverty %</th>\n",
       "      <th>Per Capita Income</th>\n",
       "    </tr>\n",
       "  </thead>\n",
       "  <tbody>\n",
       "    <tr>\n",
       "      <th>0</th>\n",
       "      <td>1</td>\n",
       "      <td>Alabama</td>\n",
       "      <td>Autauga</td>\n",
       "      <td>55036</td>\n",
       "      <td>13.756290</td>\n",
       "      <td>27823.920161</td>\n",
       "    </tr>\n",
       "    <tr>\n",
       "      <th>1</th>\n",
       "      <td>2</td>\n",
       "      <td>Alabama</td>\n",
       "      <td>Baldwin</td>\n",
       "      <td>203360</td>\n",
       "      <td>11.869656</td>\n",
       "      <td>29364.365583</td>\n",
       "    </tr>\n",
       "    <tr>\n",
       "      <th>2</th>\n",
       "      <td>3</td>\n",
       "      <td>Georgia</td>\n",
       "      <td>Baldwin</td>\n",
       "      <td>45527</td>\n",
       "      <td>28.665493</td>\n",
       "      <td>20113.410328</td>\n",
       "    </tr>\n",
       "    <tr>\n",
       "      <th>3</th>\n",
       "      <td>4</td>\n",
       "      <td>Alabama</td>\n",
       "      <td>Barbour</td>\n",
       "      <td>26201</td>\n",
       "      <td>26.867990</td>\n",
       "      <td>17561.086981</td>\n",
       "    </tr>\n",
       "    <tr>\n",
       "      <th>4</th>\n",
       "      <td>5</td>\n",
       "      <td>West Virginia</td>\n",
       "      <td>Barbour</td>\n",
       "      <td>16790</td>\n",
       "      <td>22.967516</td>\n",
       "      <td>20761.609827</td>\n",
       "    </tr>\n",
       "  </tbody>\n",
       "</table>\n",
       "</div>"
      ],
      "text/plain": [
       "   ID          State   County  Total Population  Poverty %  Per Capita Income\n",
       "0   1        Alabama  Autauga             55036  13.756290       27823.920161\n",
       "1   2        Alabama  Baldwin            203360  11.869656       29364.365583\n",
       "2   3        Georgia  Baldwin             45527  28.665493       20113.410328\n",
       "3   4        Alabama  Barbour             26201  26.867990       17561.086981\n",
       "4   5  West Virginia  Barbour             16790  22.967516       20761.609827"
      ]
     },
     "execution_count": 2,
     "metadata": {},
     "output_type": "execute_result"
    }
   ],
   "source": [
    "import pandas as pd\n",
    "#load the data\n",
    "data1 = pd.read_csv(\"C:/Users/sriva/Downloads/acs2017_census_tract_data.csv\")\n",
    "entries = []\n",
    "\n",
    "county = data1[\"County\"].unique()\n",
    "\n",
    "for county in county:\n",
    "    county_data = data1[data1['County'] == county]\n",
    "    states = county_data['State'].unique()\n",
    "\n",
    "    # Iterate through each state for the current county\n",
    "    for state in states:\n",
    "        state_county_data = county_data[county_data['State'] == state]\n",
    "        total_population = state_county_data['TotalPop'].sum()\n",
    "        poverty = state_county_data['TotalPop'] * (state_county_data['Poverty'] / 100)\n",
    "        poverty_percent = (poverty.sum() / total_population) * 100\n",
    "        total_incomes_per_population = state_county_data['TotalPop'] * state_county_data['IncomePerCap']\n",
    "        total_income_per_capita = total_incomes_per_population.sum() / total_population\n",
    "\n",
    "        entries.append([\n",
    "            state,\n",
    "            county.replace(\" County\", \"\"),\n",
    "            total_population,\n",
    "            poverty_percent,\n",
    "            total_income_per_capita\n",
    "        ])\n",
    "\n",
    "County_Info = pd.DataFrame(entries, columns=['State', 'County', 'Total Population', 'Poverty %', 'Per Capita Income'])\n",
    "County_Info['ID'] = County_Info.index + 1\n",
    "#reorder columns\n",
    "County_Info = County_Info[['ID','State', 'County', 'Total Population', 'Poverty %', 'Per Capita Income']]"
   ]
  },
  {
   "cell_type": "code",
   "execution_count": 5,
   "id": "a81c1885-d762-43a3-9500-0992abf0815c",
   "metadata": {},
   "outputs": [
    {
     "name": "stdout",
     "output_type": "stream",
     "text": [
      "        ID     State   County  Total Population  Poverty %  Per Capita Income\n",
      "3000  3001  Virginia  Loudoun            374558   3.689598       50455.645745\n"
     ]
    }
   ],
   "source": [
    "loudoun_info = County_Info[(County_Info['County'] == 'Loudoun') & (County_Info['State'] == 'Virginia')]\n",
    "print(loudoun_info)"
   ]
  },
  {
   "cell_type": "code",
   "execution_count": 7,
   "id": "ec57dc8e-6eb5-495f-a59e-b4772dccde56",
   "metadata": {},
   "outputs": [
    {
     "name": "stdout",
     "output_type": "stream",
     "text": [
      "      ID   State      County  Total Population  Poverty %  Per Capita Income\n",
      "426  427  Oregon  Washington            572071  10.321202       35369.047499\n"
     ]
    }
   ],
   "source": [
    "washington_info = County_Info[(County_Info['County'] == 'Washington') & (County_Info['State'] == 'Oregon')]\n",
    "print(washington_info)"
   ]
  },
  {
   "cell_type": "code",
   "execution_count": 8,
   "id": "4683a386-36a0-4f24-afc0-9d34f12bbbe5",
   "metadata": {},
   "outputs": [
    {
     "name": "stdout",
     "output_type": "stream",
     "text": [
      "        ID     State  County  Total Population  Poverty %  Per Capita Income\n",
      "1824  1825  Kentucky  Harlan             27548  35.669482       15456.971032\n"
     ]
    }
   ],
   "source": [
    "harlan_info = County_Info[(County_Info['County'] == 'Harlan') & (County_Info['State'] == 'Kentucky')] \n",
    "print(harlan_info)"
   ]
  },
  {
   "cell_type": "code",
   "execution_count": 9,
   "id": "573b7f40-1bcf-4f82-9107-66652392632e",
   "metadata": {},
   "outputs": [
    {
     "name": "stdout",
     "output_type": "stream",
     "text": [
      "        ID   State   County  Total Population  Poverty %  Per Capita Income\n",
      "2629  2630  Oregon  Malheur             30421  24.298225       17567.504323\n"
     ]
    }
   ],
   "source": [
    "malheur_info = County_Info[(County_Info['County'] == 'Malheur') & (County_Info['State'] == 'Oregon')] \n",
    "print(malheur_info)"
   ]
  },
  {
   "cell_type": "code",
   "execution_count": 11,
   "id": "fb3a1548-ffc7-4dbf-8ea5-202643f45a12",
   "metadata": {},
   "outputs": [
    {
     "name": "stdout",
     "output_type": "stream",
     "text": [
      "Most populous county in the USA:ID                            783\n",
      "State                  California\n",
      "County                Los Angeles\n",
      "Total Population         10105722\n",
      "Poverty %               16.998271\n",
      "Per Capita Income    30798.189407\n",
      "Name: 782, dtype: object\n"
     ]
    }
   ],
   "source": [
    "most_populous_county = County_Info.sort_values(by='Total Population', ascending=False).iloc[0]\n",
    "\n",
    "print(f\"Most populous county in the USA:{most_populous_county}\")"
   ]
  },
  {
   "cell_type": "code",
   "execution_count": 12,
   "id": "9f5c3538-c73e-416f-848c-c1554a4ce1e2",
   "metadata": {},
   "outputs": [
    {
     "name": "stdout",
     "output_type": "stream",
     "text": [
      "Least populous county in the USA:ID                      2878\n",
      "State                  Texas\n",
      "County                Loving\n",
      "Total Population          74\n",
      "Poverty %               17.1\n",
      "Per Capita Income    35530.0\n",
      "Name: 2877, dtype: object\n"
     ]
    }
   ],
   "source": [
    "least_populous_county = County_Info.sort_values(by='Total Population', ascending=True).iloc[0]\n",
    "\n",
    "print(f\"Least populous county in the USA:{least_populous_county}\")"
   ]
  },
  {
   "cell_type": "code",
   "execution_count": 14,
   "id": "f46ed9ab-f84f-44b8-83e1-e0b1d9e8d6b0",
   "metadata": {},
   "outputs": [],
   "source": [
    "covid_data = pd.read_csv(\"C:/Users/sriva/Downloads/COVID_county_data.csv\")\n",
    "covid_data['date'] = pd.to_datetime(covid_data['date'])\n",
    "covid_data['Month'] = covid_data['date'].dt.strftime('%Y-%m')\n",
    "covid_month = covid_data.groupby(['county', 'state', 'Month']).agg({\n",
    "    'cases': 'sum',\n",
    "    'deaths': 'sum'\n",
    "}).reset_index()\n",
    "County_Info['CountyState'] = County_Info['County'] + \", \" + County_Info['State']\n",
    "covid_month['CountyState'] = covid_month['county'] + \", \" + covid_month['state']\n",
    "\n",
    "# Map IDs from County_info to covid_month\n",
    "covid_month['CountyID'] = covid_month['CountyState'].map(County_Info.set_index('CountyState')['ID'])"
   ]
  },
  {
   "cell_type": "code",
   "execution_count": 15,
   "id": "02d18875-3831-4e41-be1a-421fdbfe4c61",
   "metadata": {},
   "outputs": [
    {
     "name": "stdout",
     "output_type": "stream",
     "text": [
      "        county   state    Month  cases  deaths      CountyState  CountyID\n",
      "20782  Malheur  Oregon  2020-08  28163   459.0  Malheur, Oregon    2630.0\n"
     ]
    }
   ],
   "source": [
    "print(covid_month[(covid_month['CountyState'] == 'Malheur, Oregon') & (covid_month['Month'] == '2020-08') & (covid_month['state'] == 'Oregon')])"
   ]
  },
  {
   "cell_type": "code",
   "execution_count": 16,
   "id": "a71a1632-5a1b-4adf-a51f-db6764a22ed0",
   "metadata": {},
   "outputs": [
    {
     "name": "stdout",
     "output_type": "stream",
     "text": [
      "        county   state    Month  cases  deaths      CountyState  CountyID\n",
      "20787  Malheur  Oregon  2021-01  96297  1627.0  Malheur, Oregon    2630.0\n"
     ]
    }
   ],
   "source": [
    "print(covid_month[(covid_month['CountyState'] == 'Malheur, Oregon') & (covid_month['Month'] == '2021-01') & (covid_month['state'] == 'Oregon')])"
   ]
  },
  {
   "cell_type": "code",
   "execution_count": 17,
   "id": "288546a7-b2b1-4430-80c2-c6095e87f8b6",
   "metadata": {},
   "outputs": [
    {
     "name": "stdout",
     "output_type": "stream",
     "text": [
      "        county   state    Month  cases  deaths      CountyState  CountyID\n",
      "20788  Malheur  Oregon  2021-02  65951  1137.0  Malheur, Oregon    2630.0\n"
     ]
    }
   ],
   "source": [
    "print(covid_month[(covid_month['CountyState'] == 'Malheur, Oregon') & (covid_month['Month'] == '2021-02') & (covid_month['state'] == 'Oregon')])"
   ]
  },
  {
   "cell_type": "code",
   "execution_count": 18,
   "id": "ae0b858e-4436-4b1f-9d87-8d591bc06c8e",
   "metadata": {},
   "outputs": [
    {
     "data": {
      "text/html": [
       "<div>\n",
       "<style scoped>\n",
       "    .dataframe tbody tr th:only-of-type {\n",
       "        vertical-align: middle;\n",
       "    }\n",
       "\n",
       "    .dataframe tbody tr th {\n",
       "        vertical-align: top;\n",
       "    }\n",
       "\n",
       "    .dataframe thead th {\n",
       "        text-align: right;\n",
       "    }\n",
       "</style>\n",
       "<table border=\"1\" class=\"dataframe\">\n",
       "  <thead>\n",
       "    <tr style=\"text-align: right;\">\n",
       "      <th></th>\n",
       "      <th>County</th>\n",
       "      <th>State</th>\n",
       "      <th>cases</th>\n",
       "      <th>deaths</th>\n",
       "      <th>Total Population</th>\n",
       "      <th>Poverty %</th>\n",
       "      <th>Per Capita Income</th>\n",
       "      <th>TotalCasesPer100K</th>\n",
       "      <th>TotalDeathsPer100K</th>\n",
       "    </tr>\n",
       "  </thead>\n",
       "  <tbody>\n",
       "    <tr>\n",
       "      <th>0</th>\n",
       "      <td>Abbeville</td>\n",
       "      <td>South Carolina</td>\n",
       "      <td>206727</td>\n",
       "      <td>3934.0</td>\n",
       "      <td>24788</td>\n",
       "      <td>22.663628</td>\n",
       "      <td>19234.247176</td>\n",
       "      <td>8.339802e+05</td>\n",
       "      <td>15870.582540</td>\n",
       "    </tr>\n",
       "    <tr>\n",
       "      <th>1</th>\n",
       "      <td>Accomack</td>\n",
       "      <td>Virginia</td>\n",
       "      <td>389637</td>\n",
       "      <td>5758.0</td>\n",
       "      <td>32840</td>\n",
       "      <td>19.905271</td>\n",
       "      <td>24265.653959</td>\n",
       "      <td>1.186471e+06</td>\n",
       "      <td>17533.495737</td>\n",
       "    </tr>\n",
       "    <tr>\n",
       "      <th>2</th>\n",
       "      <td>Ada</td>\n",
       "      <td>Idaho</td>\n",
       "      <td>5230256</td>\n",
       "      <td>50724.0</td>\n",
       "      <td>435117</td>\n",
       "      <td>11.909603</td>\n",
       "      <td>31642.314649</td>\n",
       "      <td>1.202034e+06</td>\n",
       "      <td>11657.554175</td>\n",
       "    </tr>\n",
       "    <tr>\n",
       "      <th>3</th>\n",
       "      <td>Adair</td>\n",
       "      <td>Iowa</td>\n",
       "      <td>70396</td>\n",
       "      <td>1792.0</td>\n",
       "      <td>7192</td>\n",
       "      <td>9.479060</td>\n",
       "      <td>28860.857620</td>\n",
       "      <td>9.788098e+05</td>\n",
       "      <td>24916.573971</td>\n",
       "    </tr>\n",
       "    <tr>\n",
       "      <th>4</th>\n",
       "      <td>Adair</td>\n",
       "      <td>Kentucky</td>\n",
       "      <td>178833</td>\n",
       "      <td>8026.0</td>\n",
       "      <td>19304</td>\n",
       "      <td>21.451083</td>\n",
       "      <td>18408.087857</td>\n",
       "      <td>9.264039e+05</td>\n",
       "      <td>41576.875259</td>\n",
       "    </tr>\n",
       "    <tr>\n",
       "      <th>...</th>\n",
       "      <td>...</td>\n",
       "      <td>...</td>\n",
       "      <td>...</td>\n",
       "      <td>...</td>\n",
       "      <td>...</td>\n",
       "      <td>...</td>\n",
       "      <td>...</td>\n",
       "      <td>...</td>\n",
       "      <td>...</td>\n",
       "    </tr>\n",
       "    <tr>\n",
       "      <th>3063</th>\n",
       "      <td>Yuma</td>\n",
       "      <td>Arizona</td>\n",
       "      <td>4445946</td>\n",
       "      <td>96197.0</td>\n",
       "      <td>204281</td>\n",
       "      <td>19.669674</td>\n",
       "      <td>20599.482375</td>\n",
       "      <td>2.176387e+06</td>\n",
       "      <td>47090.527264</td>\n",
       "    </tr>\n",
       "    <tr>\n",
       "      <th>3064</th>\n",
       "      <td>Yuma</td>\n",
       "      <td>Colorado</td>\n",
       "      <td>68447</td>\n",
       "      <td>1016.0</td>\n",
       "      <td>10109</td>\n",
       "      <td>14.272470</td>\n",
       "      <td>24788.361262</td>\n",
       "      <td>6.770897e+05</td>\n",
       "      <td>10050.450094</td>\n",
       "    </tr>\n",
       "    <tr>\n",
       "      <th>3065</th>\n",
       "      <td>Zapata</td>\n",
       "      <td>Texas</td>\n",
       "      <td>139632</td>\n",
       "      <td>2031.0</td>\n",
       "      <td>14415</td>\n",
       "      <td>34.052820</td>\n",
       "      <td>17816.874853</td>\n",
       "      <td>9.686576e+05</td>\n",
       "      <td>14089.490114</td>\n",
       "    </tr>\n",
       "    <tr>\n",
       "      <th>3066</th>\n",
       "      <td>Zavala</td>\n",
       "      <td>Texas</td>\n",
       "      <td>153660</td>\n",
       "      <td>4211.0</td>\n",
       "      <td>12152</td>\n",
       "      <td>36.275560</td>\n",
       "      <td>13104.867182</td>\n",
       "      <td>1.264483e+06</td>\n",
       "      <td>34652.732061</td>\n",
       "    </tr>\n",
       "    <tr>\n",
       "      <th>3067</th>\n",
       "      <td>Ziebach</td>\n",
       "      <td>South Dakota</td>\n",
       "      <td>34763</td>\n",
       "      <td>806.0</td>\n",
       "      <td>2837</td>\n",
       "      <td>43.100000</td>\n",
       "      <td>13461.000000</td>\n",
       "      <td>1.225344e+06</td>\n",
       "      <td>28410.292563</td>\n",
       "    </tr>\n",
       "  </tbody>\n",
       "</table>\n",
       "<p>3068 rows × 9 columns</p>\n",
       "</div>"
      ],
      "text/plain": [
       "         County           State    cases   deaths  Total Population  \\\n",
       "0     Abbeville  South Carolina   206727   3934.0             24788   \n",
       "1      Accomack        Virginia   389637   5758.0             32840   \n",
       "2           Ada           Idaho  5230256  50724.0            435117   \n",
       "3         Adair            Iowa    70396   1792.0              7192   \n",
       "4         Adair        Kentucky   178833   8026.0             19304   \n",
       "...         ...             ...      ...      ...               ...   \n",
       "3063       Yuma         Arizona  4445946  96197.0            204281   \n",
       "3064       Yuma        Colorado    68447   1016.0             10109   \n",
       "3065     Zapata           Texas   139632   2031.0             14415   \n",
       "3066     Zavala           Texas   153660   4211.0             12152   \n",
       "3067    Ziebach    South Dakota    34763    806.0              2837   \n",
       "\n",
       "      Poverty %  Per Capita Income  TotalCasesPer100K  TotalDeathsPer100K  \n",
       "0     22.663628       19234.247176       8.339802e+05        15870.582540  \n",
       "1     19.905271       24265.653959       1.186471e+06        17533.495737  \n",
       "2     11.909603       31642.314649       1.202034e+06        11657.554175  \n",
       "3      9.479060       28860.857620       9.788098e+05        24916.573971  \n",
       "4     21.451083       18408.087857       9.264039e+05        41576.875259  \n",
       "...         ...                ...                ...                 ...  \n",
       "3063  19.669674       20599.482375       2.176387e+06        47090.527264  \n",
       "3064  14.272470       24788.361262       6.770897e+05        10050.450094  \n",
       "3065  34.052820       17816.874853       9.686576e+05        14089.490114  \n",
       "3066  36.275560       13104.867182       1.264483e+06        34652.732061  \n",
       "3067  43.100000       13461.000000       1.225344e+06        28410.292563  \n",
       "\n",
       "[3068 rows x 9 columns]"
      ]
     },
     "execution_count": 18,
     "metadata": {},
     "output_type": "execute_result"
    }
   ],
   "source": [
    "# Group by county and state to aggregate cases and deaths for the entire period\n",
    "total = covid_data.groupby(['county', 'state']).agg({\n",
    "    'cases': 'sum',  # Sum up cases to get total cases over the entire period\n",
    "    'deaths': 'sum'\n",
    "}).reset_index()\n",
    "covid_summary = pd.merge(total, County_Info, left_on=['county', 'state'], right_on=['County', 'State'])\n",
    "covid_summary = covid_summary[['County', 'State', 'cases', 'deaths', 'Total Population', 'Poverty %','Per Capita Income']]\n",
    "# Calculate total cases and deaths per 100,000 population\n",
    "covid_summary['TotalCasesPer100K'] = (covid_summary['cases'] / covid_summary['Total Population']) * 100000\n",
    "covid_summary['TotalDeathsPer100K'] = (covid_summary['deaths'] / covid_summary['Total Population']) * 100000\n",
    "covid_summary.columns\n",
    "# Calculate total cases and deaths per 100,000 population\n",
    "covid_summary['TotalCasesPer100K'] = (covid_summary['cases'] / covid_summary['Total Population']) * 100000\n",
    "covid_summary['TotalDeathsPer100K'] = (covid_summary['deaths'] / covid_summary['Total Population']) * 100000"
   ]
  },
  {
   "cell_type": "code",
   "execution_count": 22,
   "id": "655a608a-89b5-4479-9fa4-3b70360a6b8b",
   "metadata": {},
   "outputs": [
    {
     "name": "stdout",
     "output_type": "stream",
     "text": [
      "          County   State    cases   deaths  Total Population  Poverty %  \\\n",
      "2903  Washington  Oregon  2157339  22455.0            572071  10.321202   \n",
      "\n",
      "      Per Capita Income  TotalCasesPer100K  TotalDeathsPer100K  \n",
      "2903       35369.047499      377110.358679          3925.21208  \n"
     ]
    }
   ],
   "source": [
    "print(covid_summary[(covid_summary['County'] == 'Washington')& (covid_summary['State'] == 'Oregon')])"
   ]
  },
  {
   "cell_type": "code",
   "execution_count": 19,
   "id": "a15bc719-6725-471d-b9f6-81a9a4030d8e",
   "metadata": {},
   "outputs": [
    {
     "name": "stdout",
     "output_type": "stream",
     "text": [
      "       County     State    cases   deaths  Total Population  Poverty %  \\\n",
      "1677  Loudoun  Virginia  2496450  35820.0            374558   3.689598   \n",
      "\n",
      "      Per Capita Income  TotalCasesPer100K  TotalDeathsPer100K  \n",
      "1677       50455.645745       666505.58792          9563.27191  \n"
     ]
    }
   ],
   "source": [
    "print(covid_summary[(covid_summary['County'] == 'Loudoun')& (covid_summary['State'] == 'Virginia')])"
   ]
  },
  {
   "cell_type": "code",
   "execution_count": 20,
   "id": "2f6a6ccd-306c-4513-9b6d-a5345ec75137",
   "metadata": {},
   "outputs": [
    {
     "name": "stdout",
     "output_type": "stream",
     "text": [
      "       County   State   cases  deaths  Total Population  Poverty %  \\\n",
      "1737  Malheur  Oregon  453634  7770.0             30421  24.298225   \n",
      "\n",
      "      Per Capita Income  TotalCasesPer100K  TotalDeathsPer100K  \n",
      "1737       17567.504323       1.491187e+06        25541.566681  \n"
     ]
    }
   ],
   "source": [
    "print(covid_summary[(covid_summary['County'] == 'Malheur')& (covid_summary['State'] == 'Oregon')])"
   ]
  },
  {
   "cell_type": "code",
   "execution_count": 21,
   "id": "0580ea27-658c-4746-b72f-73424380f75e",
   "metadata": {},
   "outputs": [
    {
     "name": "stdout",
     "output_type": "stream",
     "text": [
      "      County     State   cases  deaths  Total Population  Poverty %  \\\n",
      "1176  Harlan  Kentucky  205984  3994.0             27548  35.669482   \n",
      "\n",
      "      Per Capita Income  TotalCasesPer100K  TotalDeathsPer100K  \n",
      "1176       15456.971032       747727.60273        14498.330187  \n"
     ]
    }
   ],
   "source": [
    "print(covid_summary[(covid_summary['County'] == 'Harlan')& (covid_summary['State'] == 'Kentucky')])"
   ]
  },
  {
   "cell_type": "code",
   "execution_count": 27,
   "id": "f0828cf5-0780-4821-8eeb-baab1ce35ff4",
   "metadata": {},
   "outputs": [
    {
     "name": "stdout",
     "output_type": "stream",
     "text": [
      "Oregon Correlations:\n",
      "TotalCases_vs_Poverty: 0.28707860802137736\n",
      "TotalDeaths_vs_Poverty: 0.36053911582413345\n",
      "TotalCases_vs_Income: -0.3756850276147197\n",
      "TotalDeaths_vs_Income: -0.46186659505185557\n",
      "TotalCases_vs_Deaths: 0.97479855471827\n",
      "\n",
      "USA Correlations:\n",
      "TotalCases_vs_Poverty: 0.19743877808931917\n",
      "TotalDeaths_vs_Poverty: 0.2680378406210282\n",
      "TotalCases_vs_Income: -0.21366063360627474\n",
      "TotalDeaths_vs_Income: -0.173458350031203\n",
      "TotalCases_vs_Population: 0.9662049145438587\n",
      "TotalCases_vs_Deaths: 0.9044409109065387\n"
     ]
    }
   ],
   "source": [
    "oregon_data = covid_summary[covid_summary['State'].str.contains('Oregon')]\n",
    "\n",
    "print(\"Oregon Correlations:\")\n",
    "print(f\"TotalCases_vs_Poverty: {oregon_data['TotalCasesPer100K'].corr(oregon_data['Poverty %'])}\")\n",
    "print(f\"TotalDeaths_vs_Poverty: {oregon_data['TotalDeathsPer100K'].corr(oregon_data['Poverty %'])}\")\n",
    "print(f\"TotalCases_vs_Income: {oregon_data['TotalCasesPer100K'].corr(oregon_data['Per Capita Income'])}\")\n",
    "print(f\"TotalDeaths_vs_Income: {oregon_data['TotalDeathsPer100K'].corr(oregon_data['Per Capita Income'])}\")\n",
    "print(f\"TotalCases_vs_Deaths: {oregon_data['cases'].corr(oregon_data['deaths'])}\")\n",
    "\n",
    "print(\"\\nUSA Correlations:\")\n",
    "print(f\"TotalCases_vs_Poverty: {covid_summary['TotalCasesPer100K'].corr(covid_summary['Poverty %'])}\")\n",
    "print(f\"TotalDeaths_vs_Poverty: {covid_summary['TotalDeathsPer100K'].corr(covid_summary['Poverty %'])}\")\n",
    "print(f\"TotalCases_vs_Income: {covid_summary['TotalCasesPer100K'].corr(covid_summary['Per Capita Income'])}\")\n",
    "print(f\"TotalDeaths_vs_Income: {covid_summary['TotalDeathsPer100K'].corr(covid_summary['Per Capita Income'])}\")\n",
    "print(f\"TotalCases_vs_Population: {covid_summary['Total Population'].corr(covid_summary['cases'])}\")\n",
    "print(f\"TotalCases_vs_Deaths: {covid_summary['cases'].corr(covid_summary['deaths'])}\")"
   ]
  },
  {
   "cell_type": "code",
   "execution_count": 29,
   "id": "972041e4-55bb-4031-8ccb-8ad5eb62aa56",
   "metadata": {},
   "outputs": [
    {
     "name": "stdout",
     "output_type": "stream",
     "text": [
      "TotalCases_vs_Deaths Correlation: 0.9044409109065387\n"
     ]
    },
    {
     "data": {
      "image/png": "[encoded data removed]",
      "text/plain": [
       "<Figure size 1000x600 with 1 Axes>"
      ]
     },
     "metadata": {},
     "output_type": "display_data"
    }
   ],
   "source": [
    "import matplotlib.pyplot as plt\n",
    "import seaborn as sns\n",
    "\n",
    "\n",
    "# Calculate the Pearson correlation coefficient\n",
    "correlation = covid_summary['cases'].corr(covid_summary['deaths'])\n",
    "print(f\"TotalCases_vs_Deaths Correlation: {correlation}\")\n",
    "\n",
    "# Create a scatter plot\n",
    "plt.figure(figsize=(10, 6))\n",
    "sns.scatterplot(x=covid_summary['cases'], y=covid_summary['deaths'])\n",
    "plt.title(f'Total Cases vs. Total Deaths (R = {correlation:.2f})')\n",
    "plt.xlabel('Total COVID-19 Cases')\n",
    "plt.ylabel('Total COVID-19 Deaths')\n",
    "plt.grid(True)\n",
    "plt.show()"
   ]
  }
 ],
 "metadata": {
  "kernelspec": {
   "display_name": "Python 3 (ipykernel)",
   "language": "python",
   "name": "python3"
  },
  "language_info": {
   "codemirror_mode": {
    "name": "ipython",
    "version": 3
   },
   "file_extension": ".py",
   "mimetype": "text/x-python",
   "name": "python",
   "nbconvert_exporter": "python",
   "pygments_lexer": "ipython3",
   "version": "3.11.7"
  }
 },
 "nbformat": 4,
 "nbformat_minor": 5
}
