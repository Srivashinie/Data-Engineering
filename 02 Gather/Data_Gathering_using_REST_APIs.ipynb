{
  "nbformat": 4,
  "nbformat_minor": 0,
  "metadata": {
    "colab": {
      "provenance": []
    },
    "kernelspec": {
      "name": "python3",
      "display_name": "Python 3"
    },
    "language_info": {
      "name": "python"
    }
  },
  "cells": [
    {
      "cell_type": "code",
      "source": [
        "import requests\n",
        "\n",
        "api_key = 'b4724d708bed9157d33686c285eb0a30'\n",
        "\n",
        "#Latitude and longitude for the city,state and country code\n",
        "def get_latlon(city,state,country):\n",
        "    url = f'http://api.openweathermap.org/geo/1.0/direct?q={city},{state},{country}&limit=1&appid={api_key}'\n",
        "    response = requests.get(url)\n",
        "    data = response.json()\n",
        "    #print(data)\n",
        "    if data:\n",
        "        return data[0]['lat'], data[0]['lon']\n",
        "    return None, None\n",
        "\n",
        "#Get weather predictions based on the latitude and longitude\n",
        "def get_weather_forecast(lat,lon):\n",
        "    url = f'http://api.openweathermap.org/data/2.5/forecast?lat={lat}&lon={lon}&appid={api_key}'\n",
        "    response = requests.get(url)\n",
        "    data = response.json()\n",
        "    #print(data)\n",
        "    return data\n",
        "\n",
        "city = input(\"Enter city name: \")\n",
        "state = input(\"Enter state code: \")\n",
        "country = input(\"Enter country code: \")\n",
        "\n",
        "lat, lon = get_latlon(city,state,country)\n",
        "\n",
        "if lat is not None and lon is not None:\n",
        "    print()\n",
        "    #Current weather predictions\n",
        "    weather_url = f'https://api.openweathermap.org/data/2.5/weather?lat={lat}&lon={lon}&appid={api_key}'\n",
        "    response = requests.get(weather_url)\n",
        "    weather_data = response.json()\n",
        "    if 'weather' in weather_data and weather_data['weather'][0]['main'].lower() == 'rain':\n",
        "        #print(weather_data['weather'][0]['main'].lower())\n",
        "        print(f\"It will rain in {city}, {state}, {country} Today.\")\n",
        "    else:\n",
        "        #print(weather_data['weather'][0]['main'].lower())\n",
        "        print(f\"It will not rain in {city}, {state}, {country} Today.\")\n",
        "\n",
        "    #Get predictions to check if it will rain when next class meets\n",
        "    forecast = get_weather_forecast(lat, lon)\n",
        "    if 'list' in forecast:\n",
        "        day_five = forecast['list'][33]  #calculates the index of day 5 from current day\n",
        "\n",
        "        if day_five: #using the fifth day as our next class\n",
        "            date = day_five['dt_txt'].split()[0]\n",
        "            weather = day_five['weather'][0]['main']\n",
        "            if weather.lower() == 'rain':\n",
        "               print(f\"It will rain on {date}.\")\n",
        "            else:\n",
        "              print(f\"It will not rain on {date}.\")\n",
        "        else:\n",
        "            print(\"No weather forecast found for the fifth day.\")\n",
        "    else:\n",
        "        print(\"No weather forecast data found in the API response.\")\n",
        "\n",
        "else:\n",
        "    print(\"Latitude and longitude not found for the city.\")\n"
      ],
      "metadata": {
        "colab": {
          "base_uri": "https://localhost:8080/"
        },
        "id": "ZL39VPrCe412",
        "outputId": "d94565cc-c847-438c-ff43-0aa87ef81e16"
      },
      "execution_count": 26,
      "outputs": [
        {
          "output_type": "stream",
          "name": "stdout",
          "text": [
            "Enter city name: Portland\n",
            "Enter state code: OR\n",
            "Enter country code: US\n",
            "\n",
            "It will not rain in Portland, OR, US Today.\n",
            "It will not rain on 2024-04-17.\n"
          ]
        }
      ]
    }
  ]
}