{
 "cells": [
  {
   "cell_type": "code",
   "execution_count": null,
   "id": "4923253d-5beb-4330-91cd-29e1f9b30924",
   "metadata": {},
   "outputs": [],
   "source": [
    "#read the dataset\n",
    "import pandas as pd\n",
    "df = pd.read_csv(\"C:/Users/sriva/Downloads/bc_trip259172515_230215.csv\")\n",
    "print(df.head()) "
   ]
  },
  {
   "cell_type": "markdown",
   "id": "a5904d4e-7105-4026-8b57-e0cbd094b2e1",
   "metadata": {},
   "source": [
    "C. Filtering"
   ]
  },
  {
   "cell_type": "code",
   "execution_count": null,
   "id": "7d676d19-6318-4211-8c4c-a49232b75b51",
   "metadata": {},
   "outputs": [],
   "source": [
    "#filtering using drop\n",
    "df.drop(['EVENT_NO_STOP', 'GPS_SATELLITES', 'GPS_HDOP'], axis=1)"
   ]
  },
  {
   "cell_type": "code",
   "execution_count": null,
   "id": "729612dc-5590-4b10-afbf-ccb21d49d63a",
   "metadata": {},
   "outputs": [],
   "source": [
    "df"
   ]
  },
  {
   "cell_type": "code",
   "execution_count": null,
   "id": "3b7b3568-8e8a-4f3f-b525-89b1e0cfea82",
   "metadata": {},
   "outputs": [],
   "source": [
    "#Filtering using usecols\n",
    "columns_to_include = [0, 2, 3, 4, 5, 6, 7 ]\n",
    "df = pd.read_csv(\"C:/Users/sriva/Downloads/bc_trip259172515_230215.csv\", usecols=columns_to_include)"
   ]
  },
  {
   "cell_type": "code",
   "execution_count": null,
   "id": "0545f011-c35e-480a-9787-d23139ed84a2",
   "metadata": {},
   "outputs": [],
   "source": [
    "df"
   ]
  },
  {
   "cell_type": "code",
   "execution_count": null,
   "id": "02fa66b2-54fe-467a-9d95-743710e9fbf7",
   "metadata": {},
   "outputs": [],
   "source": [
    "from datetime import datetime, timedelta\n",
    "def timestamp(row):\n",
    "    #get the date and time\n",
    "    opd_date = datetime.strptime(row['OPD_DATE'], '%d%b%Y:%H:%M:%S')\n",
    "    delta = timedelta(seconds=row['ACT_TIME'])\n",
    "    return opd_date + delta\n",
    "\n",
    "df['TIMESTAMP'] = df.apply(timestamp, axis=1)\n",
    "\n",
    "print(df)"
   ]
  },
  {
   "cell_type": "markdown",
   "id": "ed3a6090-8076-4656-aebb-1ad62fc47f50",
   "metadata": {},
   "source": [
    "E.  More Filtering"
   ]
  },
  {
   "cell_type": "code",
   "execution_count": null,
   "id": "adab7c94-9ff5-413e-96d0-13bb737d1f35",
   "metadata": {},
   "outputs": [],
   "source": [
    "df1=df.drop(['OPD_DATE', 'ACT_TIME'], axis=1)\n",
    "df1"
   ]
  },
  {
   "cell_type": "code",
   "execution_count": null,
   "id": "a7bbfff9-31f3-4553-913c-a2cccca61a74",
   "metadata": {},
   "outputs": [],
   "source": [
    "df1['dMETERS'] = df1['METERS'].diff()\n",
    "df1['dTIMESTAMP'] = df1['TIMESTAMP'].diff()\n",
    "\n",
    "#Calculating speed\n",
    "df1['SPEED'] = df1.apply(lambda row: row['dMETERS'] / row['dTIMESTAMP'].total_seconds() if row['dTIMESTAMP'].total_seconds() != 0 else 0, axis=1)\n",
    "print(df1)\n",
    "# Drop unneeded columns\n",
    "df2 = df1.drop(['dMETERS', 'dTIMESTAMP'], axis=1)\n",
    "\n",
    "#Minimum, maximum and average speed\n",
    "speed = df1['SPEED'].describe()\n",
    "print(f\"\\n{df1['SPEED'].describe()}\")\n",
    "print(\"\\nMinimum speed:\", speed['min'])\n",
    "print(\"Maximum speed:\", speed['max'])\n",
    "print(\"Average speed:\", speed['mean'])\n",
    "\n",
    "df2"
   ]
  },
  {
   "cell_type": "markdown",
   "id": "d2bc8bdb-6fd5-4418-b701-e8a3f2ec033b",
   "metadata": {},
   "source": [
    "G. Larger Data Set"
   ]
  },
  {
   "cell_type": "code",
   "execution_count": null,
   "id": "83bb882b-300c-4c72-92b1-c635781e147c",
   "metadata": {},
   "outputs": [],
   "source": [
    "#read the dataset\n",
    "import pandas as pd\n",
    "df = pd.read_csv(\"C:/Users/sriva/Downloads/bc_veh4223_230215.csv\")\n",
    "print(df.head()) "
   ]
  },
  {
   "cell_type": "code",
   "execution_count": null,
   "id": "53ed80de-a9de-4f68-ad9a-6186bb3b3a3e",
   "metadata": {},
   "outputs": [],
   "source": [
    "#filtering using drop\n",
    "df.drop(['EVENT_NO_STOP', 'GPS_SATELLITES', 'GPS_HDOP'], axis=1)\n",
    "df"
   ]
  },
  {
   "cell_type": "code",
   "execution_count": null,
   "id": "cb792368-629b-4378-8e3d-7ea0402c97bc",
   "metadata": {},
   "outputs": [],
   "source": [
    "#Filtering using usecols\n",
    "columns_to_include = [0, 2, 3, 4, 5, 6, 7 ]\n",
    "df = pd.read_csv(\"C:/Users/sriva/Downloads/bc_veh4223_230215.csv\", usecols=columns_to_include)\n",
    "df"
   ]
  },
  {
   "cell_type": "code",
   "execution_count": null,
   "id": "ccc6b2b5-2c70-4cd1-85fb-c9dcf6792673",
   "metadata": {},
   "outputs": [],
   "source": [
    "df['OPD_DATE'] = pd.to_datetime(df['OPD_DATE'], format='%d%b%Y:%H:%M:%S')\n",
    "\n",
    "group = df.groupby('EVENT_NO_TRIP')\n",
    "dfs = []\n",
    "\n",
    "for id, data in group:\n",
    "    data = data.sort_values(by='ACT_TIME')\n",
    "    \n",
    "    data['TIMESTAMP'] = data.apply(lambda row: row['OPD_DATE'] + timedelta(seconds=row['ACT_TIME']), axis=1)\n",
    "    data['dMETERS'] = data['METERS'].diff()\n",
    "    data['dTIMESTAMP'] = data['TIMESTAMP'].diff()\n",
    "    \n",
    "    #Calculate the speed\n",
    "    data['SPEED'] = data.apply(lambda row: row['dMETERS'] / row['dTIMESTAMP'].total_seconds() if row['dTIMESTAMP'].total_seconds() != 0 else 0, axis=1)\n",
    "    print(f'\\nTrip Number:{id}')\n",
    "    speed = data['SPEED'].describe()\n",
    "    print(f\"{data['SPEED'].describe()}\")\n",
    "    print(\"\\nMinimum speed:\", speed['min'])\n",
    "    print(\"Maximum speed:\", speed['max'])\n",
    "    print(\"Average speed:\", speed['mean'])\n",
    "    dfs.append(data)\n",
    "\n",
    "\n",
    "df3 = pd.concat(dfs)\n",
    "#drop the columns\n",
    "df3 = df3.drop(['OPD_DATE', 'ACT_TIME','dMETERS', 'dTIMESTAMP'], axis=1)\n",
    "print(df3)\n",
    "\n"
   ]
  },
  {
   "cell_type": "code",
   "execution_count": null,
   "id": "53c032bb-31ac-4020-bf6a-1cf34f7b0cbb",
   "metadata": {},
   "outputs": [],
   "source": [
    "group2 = df3.groupby('VEHICLE_ID')\n",
    "\n",
    "speed = []\n",
    "\n",
    "for id, data in group2:\n",
    "    # Filter data for '2023-02-15'\n",
    "    data = data[data['TIMESTAMP'].dt.date == pd.to_datetime('2023-02-15').date()]\n",
    "    if not data.empty:\n",
    "        s = data['SPEED'].describe()\n",
    "        speed.append({\n",
    "            'VEHICLE_ID': id,\n",
    "            'MIN_SPEED': s['min'],\n",
    "            'MAX_SPEED': s['max'],\n",
    "            'MEDIAN_SPEED': data['SPEED'].median()\n",
    "        })\n",
    "\n",
    "df4 = pd.DataFrame(speed)\n",
    "print(df4)"
   ]
  },
  {
   "cell_type": "code",
   "execution_count": null,
   "id": "8ce716b3-7c54-41da-902e-7ae22100ed04",
   "metadata": {},
   "outputs": [],
   "source": [
    "group3 = df3.groupby('VEHICLE_ID')\n",
    "\n",
    "max = []\n",
    "\n",
    "for vehicle_id, vehicle_data in group3:\n",
    "    if not vehicle_data.empty:\n",
    "        max_speed = vehicle_data['SPEED'].max()\n",
    "        max_speed_rows = vehicle_data[vehicle_data['SPEED'] == max_speed].to_dict('records')\n",
    "        for row in max_speed_rows:\n",
    "            row['VEHICLE_ID'] = vehicle_id\n",
    "            max.append(row)\n",
    "\n",
    "df5 = pd.DataFrame(max)\n",
    "df5 = df5[df5['TIMESTAMP'].dt.date == pd.to_datetime('2023-02-15').date()]\n",
    "print(df5)"
   ]
  }
 ],
 "metadata": {
  "kernelspec": {
   "display_name": "Python 3 (ipykernel)",
   "language": "python",
   "name": "python3"
  },
  "language_info": {
   "codemirror_mode": {
    "name": "ipython",
    "version": 3
   },
   "file_extension": ".py",
   "mimetype": "text/x-python",
   "name": "python",
   "nbconvert_exporter": "python",
   "pygments_lexer": "ipython3",
   "version": "3.11.7"
  }
 },
 "nbformat": 4,
 "nbformat_minor": 5
}
